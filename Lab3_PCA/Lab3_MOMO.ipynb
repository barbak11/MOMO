{
  "cells": [
    {
      "cell_type": "markdown",
      "id": "5a3590f2",
      "metadata": {
        "id": "5a3590f2"
      },
      "source": [
        "# Алгоритмы разложения матриц. PCA."
      ]
    },
    {
      "cell_type": "markdown",
      "id": "c3835679",
      "metadata": {
        "id": "c3835679"
      },
      "source": [
        "### 1. Настройка среды"
      ]
    },
    {
      "cell_type": "code",
      "execution_count": 1,
      "id": "b132c4af",
      "metadata": {
        "id": "b132c4af"
      },
      "outputs": [],
      "source": [
        "#Импорт необходимых библиотек\n",
        "import pandas as pd\n",
        "import numpy as np\n",
        "import matplotlib.pyplot as plt\n",
        "import scipy\n",
        "import seaborn as sns\n",
        "plt.style.use('ggplot')\n",
        "%matplotlib inline\n",
        "plt.rcParams[\"figure.figsize\"] = (10,6)\n",
        "sns.set_theme(style='darkgrid', palette='husl')\n",
        "\n",
        "import warnings\n",
        "warnings.filterwarnings(action='ignore')"
      ]
    },
    {
      "cell_type": "code",
      "execution_count": 2,
      "id": "e3cb2b2b",
      "metadata": {
        "scrolled": false,
        "colab": {
          "base_uri": "https://localhost:8080/",
          "height": 206
        },
        "id": "e3cb2b2b",
        "outputId": "622fd2d2-ed97-488f-e7e0-74acf0ef1eda"
      },
      "outputs": [
        {
          "output_type": "execute_result",
          "data": {
            "text/plain": [
              "           0          1          2          3          4\n",
              "0  10.382991 -14.438544 -23.950798 -17.809813   2.480495\n",
              "1  18.987842 -13.071734  15.619164 -11.288528 -11.624820\n",
              "2   7.426000  -9.236580 -21.139348   6.732592   0.447684\n",
              "3  10.718844 -10.240587 -20.604991   4.828083  -0.073568\n",
              "4  10.662165   3.871777  12.384108  -1.921321  -1.990254"
            ],
            "text/html": [
              "\n",
              "  <div id=\"df-190dce82-841d-4570-8e9f-cd047a796b0c\">\n",
              "    <div class=\"colab-df-container\">\n",
              "      <div>\n",
              "<style scoped>\n",
              "    .dataframe tbody tr th:only-of-type {\n",
              "        vertical-align: middle;\n",
              "    }\n",
              "\n",
              "    .dataframe tbody tr th {\n",
              "        vertical-align: top;\n",
              "    }\n",
              "\n",
              "    .dataframe thead th {\n",
              "        text-align: right;\n",
              "    }\n",
              "</style>\n",
              "<table border=\"1\" class=\"dataframe\">\n",
              "  <thead>\n",
              "    <tr style=\"text-align: right;\">\n",
              "      <th></th>\n",
              "      <th>0</th>\n",
              "      <th>1</th>\n",
              "      <th>2</th>\n",
              "      <th>3</th>\n",
              "      <th>4</th>\n",
              "    </tr>\n",
              "  </thead>\n",
              "  <tbody>\n",
              "    <tr>\n",
              "      <th>0</th>\n",
              "      <td>10.382991</td>\n",
              "      <td>-14.438544</td>\n",
              "      <td>-23.950798</td>\n",
              "      <td>-17.809813</td>\n",
              "      <td>2.480495</td>\n",
              "    </tr>\n",
              "    <tr>\n",
              "      <th>1</th>\n",
              "      <td>18.987842</td>\n",
              "      <td>-13.071734</td>\n",
              "      <td>15.619164</td>\n",
              "      <td>-11.288528</td>\n",
              "      <td>-11.624820</td>\n",
              "    </tr>\n",
              "    <tr>\n",
              "      <th>2</th>\n",
              "      <td>7.426000</td>\n",
              "      <td>-9.236580</td>\n",
              "      <td>-21.139348</td>\n",
              "      <td>6.732592</td>\n",
              "      <td>0.447684</td>\n",
              "    </tr>\n",
              "    <tr>\n",
              "      <th>3</th>\n",
              "      <td>10.718844</td>\n",
              "      <td>-10.240587</td>\n",
              "      <td>-20.604991</td>\n",
              "      <td>4.828083</td>\n",
              "      <td>-0.073568</td>\n",
              "    </tr>\n",
              "    <tr>\n",
              "      <th>4</th>\n",
              "      <td>10.662165</td>\n",
              "      <td>3.871777</td>\n",
              "      <td>12.384108</td>\n",
              "      <td>-1.921321</td>\n",
              "      <td>-1.990254</td>\n",
              "    </tr>\n",
              "  </tbody>\n",
              "</table>\n",
              "</div>\n",
              "      <button class=\"colab-df-convert\" onclick=\"convertToInteractive('df-190dce82-841d-4570-8e9f-cd047a796b0c')\"\n",
              "              title=\"Convert this dataframe to an interactive table.\"\n",
              "              style=\"display:none;\">\n",
              "        \n",
              "  <svg xmlns=\"http://www.w3.org/2000/svg\" height=\"24px\"viewBox=\"0 0 24 24\"\n",
              "       width=\"24px\">\n",
              "    <path d=\"M0 0h24v24H0V0z\" fill=\"none\"/>\n",
              "    <path d=\"M18.56 5.44l.94 2.06.94-2.06 2.06-.94-2.06-.94-.94-2.06-.94 2.06-2.06.94zm-11 1L8.5 8.5l.94-2.06 2.06-.94-2.06-.94L8.5 2.5l-.94 2.06-2.06.94zm10 10l.94 2.06.94-2.06 2.06-.94-2.06-.94-.94-2.06-.94 2.06-2.06.94z\"/><path d=\"M17.41 7.96l-1.37-1.37c-.4-.4-.92-.59-1.43-.59-.52 0-1.04.2-1.43.59L10.3 9.45l-7.72 7.72c-.78.78-.78 2.05 0 2.83L4 21.41c.39.39.9.59 1.41.59.51 0 1.02-.2 1.41-.59l7.78-7.78 2.81-2.81c.8-.78.8-2.07 0-2.86zM5.41 20L4 18.59l7.72-7.72 1.47 1.35L5.41 20z\"/>\n",
              "  </svg>\n",
              "      </button>\n",
              "      \n",
              "  <style>\n",
              "    .colab-df-container {\n",
              "      display:flex;\n",
              "      flex-wrap:wrap;\n",
              "      gap: 12px;\n",
              "    }\n",
              "\n",
              "    .colab-df-convert {\n",
              "      background-color: #E8F0FE;\n",
              "      border: none;\n",
              "      border-radius: 50%;\n",
              "      cursor: pointer;\n",
              "      display: none;\n",
              "      fill: #1967D2;\n",
              "      height: 32px;\n",
              "      padding: 0 0 0 0;\n",
              "      width: 32px;\n",
              "    }\n",
              "\n",
              "    .colab-df-convert:hover {\n",
              "      background-color: #E2EBFA;\n",
              "      box-shadow: 0px 1px 2px rgba(60, 64, 67, 0.3), 0px 1px 3px 1px rgba(60, 64, 67, 0.15);\n",
              "      fill: #174EA6;\n",
              "    }\n",
              "\n",
              "    [theme=dark] .colab-df-convert {\n",
              "      background-color: #3B4455;\n",
              "      fill: #D2E3FC;\n",
              "    }\n",
              "\n",
              "    [theme=dark] .colab-df-convert:hover {\n",
              "      background-color: #434B5C;\n",
              "      box-shadow: 0px 1px 3px 1px rgba(0, 0, 0, 0.15);\n",
              "      filter: drop-shadow(0px 1px 2px rgba(0, 0, 0, 0.3));\n",
              "      fill: #FFFFFF;\n",
              "    }\n",
              "  </style>\n",
              "\n",
              "      <script>\n",
              "        const buttonEl =\n",
              "          document.querySelector('#df-190dce82-841d-4570-8e9f-cd047a796b0c button.colab-df-convert');\n",
              "        buttonEl.style.display =\n",
              "          google.colab.kernel.accessAllowed ? 'block' : 'none';\n",
              "\n",
              "        async function convertToInteractive(key) {\n",
              "          const element = document.querySelector('#df-190dce82-841d-4570-8e9f-cd047a796b0c');\n",
              "          const dataTable =\n",
              "            await google.colab.kernel.invokeFunction('convertToInteractive',\n",
              "                                                     [key], {});\n",
              "          if (!dataTable) return;\n",
              "\n",
              "          const docLinkHtml = 'Like what you see? Visit the ' +\n",
              "            '<a target=\"_blank\" href=https://colab.research.google.com/notebooks/data_table.ipynb>data table notebook</a>'\n",
              "            + ' to learn more about interactive tables.';\n",
              "          element.innerHTML = '';\n",
              "          dataTable['output_type'] = 'display_data';\n",
              "          await google.colab.output.renderOutput(dataTable, element);\n",
              "          const docLink = document.createElement('div');\n",
              "          docLink.innerHTML = docLinkHtml;\n",
              "          element.appendChild(docLink);\n",
              "        }\n",
              "      </script>\n",
              "    </div>\n",
              "  </div>\n",
              "  "
            ]
          },
          "metadata": {},
          "execution_count": 2
        }
      ],
      "source": [
        "df = pd.read_csv('94_16.csv', header=None)\n",
        "df = df.loc[:, 0:4]\n",
        "df.head()"
      ]
    },
    {
      "cell_type": "markdown",
      "id": "9a249299",
      "metadata": {
        "id": "9a249299"
      },
      "source": [
        "Датасет представляет из себя набор непрерывных величин, для дальнейшей работы оставляем 5 первых признаков. Объекты - строки матрицы"
      ]
    },
    {
      "cell_type": "markdown",
      "id": "89f17280",
      "metadata": {
        "id": "89f17280"
      },
      "source": [
        "Нашей задачей является реализация метода главных компонент. Находить главные компоненты мы будем с помощью сингулярного разложения исходной матрицы F, размером nxp. Матрица представляется следующим образом:\n",
        "\n",
        "$$\\Large X = V * S * U^T $$\n",
        "\n",
        ", где S - диагональная матрица сингулярных значений, а V и U - левые и правые сингулярные векторы соответсвенно"
      ]
    },
    {
      "cell_type": "markdown",
      "id": "5fa06ca2",
      "metadata": {
        "id": "5fa06ca2"
      },
      "source": [
        "### 2. Подготовка данных"
      ]
    },
    {
      "cell_type": "markdown",
      "id": "6510d898",
      "metadata": {
        "id": "6510d898"
      },
      "source": [
        "Вектора главых компонент должны проходить через центр выборки, поэтому первым шагом метода главных компонент выступает центрирование данных"
      ]
    },
    {
      "cell_type": "code",
      "execution_count": 3,
      "id": "9fe48207",
      "metadata": {
        "id": "9fe48207"
      },
      "outputs": [],
      "source": [
        "def data_centering(df):\n",
        "    \"\"\"Центрирование значений матрицы\"\"\"\n",
        "    \n",
        "    df_shape = df.shape[1]\n",
        "    for i in range(df_shape):\n",
        "        df[i] = df[i] - df[i].mean()"
      ]
    },
    {
      "cell_type": "code",
      "execution_count": 4,
      "id": "89a7abe9",
      "metadata": {
        "id": "89a7abe9"
      },
      "outputs": [],
      "source": [
        "data_centering(df=df)"
      ]
    },
    {
      "cell_type": "markdown",
      "id": "2027c333",
      "metadata": {
        "id": "2027c333"
      },
      "source": [
        "### 3. Нахождение ковариационной матрицы"
      ]
    },
    {
      "cell_type": "markdown",
      "id": "18496e70",
      "metadata": {
        "id": "18496e70"
      },
      "source": [
        "Для дальнейшего нахождения собственных значений и собственных векторов матрицы, необходимо найти ковариацинную матрицу, которая вычисляется по формуле:  \n",
        "$$\\Large \\theta = \\frac{1}{n} * (F^T * F)$$\n",
        "\n",
        ", где F - центрированная матрица, содержащая информацию об n объектов, обладающих p признаками"
      ]
    },
    {
      "cell_type": "code",
      "execution_count": 5,
      "id": "e319409d",
      "metadata": {
        "id": "e319409d"
      },
      "outputs": [],
      "source": [
        "def cov_matrix(df):\n",
        "    \"\"\"Вычисление ковариционной матрицы\"\"\"\n",
        "    \n",
        "    df_len = df.shape[0]\n",
        "    df_matrix = np.array(df)\n",
        "    cov_matrix = df_matrix.T.dot(df_matrix)\n",
        "    \n",
        "    return cov_matrix"
      ]
    },
    {
      "cell_type": "code",
      "execution_count": 6,
      "id": "4bcae93b",
      "metadata": {
        "id": "4bcae93b"
      },
      "outputs": [],
      "source": [
        "cov = cov_matrix(df=df)"
      ]
    },
    {
      "cell_type": "code",
      "execution_count": 7,
      "id": "4671582e",
      "metadata": {
        "scrolled": false,
        "colab": {
          "base_uri": "https://localhost:8080/",
          "height": 206
        },
        "id": "4671582e",
        "outputId": "541c812a-2cbe-4297-ea17-8d7408896100"
      },
      "outputs": [
        {
          "output_type": "execute_result",
          "data": {
            "text/plain": [
              "             0            1             2            3            4\n",
              "0  1726.876898  -376.871187   3601.287763  -867.879972 -1282.894558\n",
              "1  -376.871187  3599.524547   4922.905813  1380.684961  -154.375589\n",
              "2  3601.287763  4922.905813  18388.984710  -435.503462 -3764.179372\n",
              "3  -867.879972  1380.684961   -435.503462  4700.371989   656.912167\n",
              "4 -1282.894558  -154.375589  -3764.179372   656.912167  1248.048325"
            ],
            "text/html": [
              "\n",
              "  <div id=\"df-7281df58-e819-47ac-87dc-f695a15a6fe4\">\n",
              "    <div class=\"colab-df-container\">\n",
              "      <div>\n",
              "<style scoped>\n",
              "    .dataframe tbody tr th:only-of-type {\n",
              "        vertical-align: middle;\n",
              "    }\n",
              "\n",
              "    .dataframe tbody tr th {\n",
              "        vertical-align: top;\n",
              "    }\n",
              "\n",
              "    .dataframe thead th {\n",
              "        text-align: right;\n",
              "    }\n",
              "</style>\n",
              "<table border=\"1\" class=\"dataframe\">\n",
              "  <thead>\n",
              "    <tr style=\"text-align: right;\">\n",
              "      <th></th>\n",
              "      <th>0</th>\n",
              "      <th>1</th>\n",
              "      <th>2</th>\n",
              "      <th>3</th>\n",
              "      <th>4</th>\n",
              "    </tr>\n",
              "  </thead>\n",
              "  <tbody>\n",
              "    <tr>\n",
              "      <th>0</th>\n",
              "      <td>1726.876898</td>\n",
              "      <td>-376.871187</td>\n",
              "      <td>3601.287763</td>\n",
              "      <td>-867.879972</td>\n",
              "      <td>-1282.894558</td>\n",
              "    </tr>\n",
              "    <tr>\n",
              "      <th>1</th>\n",
              "      <td>-376.871187</td>\n",
              "      <td>3599.524547</td>\n",
              "      <td>4922.905813</td>\n",
              "      <td>1380.684961</td>\n",
              "      <td>-154.375589</td>\n",
              "    </tr>\n",
              "    <tr>\n",
              "      <th>2</th>\n",
              "      <td>3601.287763</td>\n",
              "      <td>4922.905813</td>\n",
              "      <td>18388.984710</td>\n",
              "      <td>-435.503462</td>\n",
              "      <td>-3764.179372</td>\n",
              "    </tr>\n",
              "    <tr>\n",
              "      <th>3</th>\n",
              "      <td>-867.879972</td>\n",
              "      <td>1380.684961</td>\n",
              "      <td>-435.503462</td>\n",
              "      <td>4700.371989</td>\n",
              "      <td>656.912167</td>\n",
              "    </tr>\n",
              "    <tr>\n",
              "      <th>4</th>\n",
              "      <td>-1282.894558</td>\n",
              "      <td>-154.375589</td>\n",
              "      <td>-3764.179372</td>\n",
              "      <td>656.912167</td>\n",
              "      <td>1248.048325</td>\n",
              "    </tr>\n",
              "  </tbody>\n",
              "</table>\n",
              "</div>\n",
              "      <button class=\"colab-df-convert\" onclick=\"convertToInteractive('df-7281df58-e819-47ac-87dc-f695a15a6fe4')\"\n",
              "              title=\"Convert this dataframe to an interactive table.\"\n",
              "              style=\"display:none;\">\n",
              "        \n",
              "  <svg xmlns=\"http://www.w3.org/2000/svg\" height=\"24px\"viewBox=\"0 0 24 24\"\n",
              "       width=\"24px\">\n",
              "    <path d=\"M0 0h24v24H0V0z\" fill=\"none\"/>\n",
              "    <path d=\"M18.56 5.44l.94 2.06.94-2.06 2.06-.94-2.06-.94-.94-2.06-.94 2.06-2.06.94zm-11 1L8.5 8.5l.94-2.06 2.06-.94-2.06-.94L8.5 2.5l-.94 2.06-2.06.94zm10 10l.94 2.06.94-2.06 2.06-.94-2.06-.94-.94-2.06-.94 2.06-2.06.94z\"/><path d=\"M17.41 7.96l-1.37-1.37c-.4-.4-.92-.59-1.43-.59-.52 0-1.04.2-1.43.59L10.3 9.45l-7.72 7.72c-.78.78-.78 2.05 0 2.83L4 21.41c.39.39.9.59 1.41.59.51 0 1.02-.2 1.41-.59l7.78-7.78 2.81-2.81c.8-.78.8-2.07 0-2.86zM5.41 20L4 18.59l7.72-7.72 1.47 1.35L5.41 20z\"/>\n",
              "  </svg>\n",
              "      </button>\n",
              "      \n",
              "  <style>\n",
              "    .colab-df-container {\n",
              "      display:flex;\n",
              "      flex-wrap:wrap;\n",
              "      gap: 12px;\n",
              "    }\n",
              "\n",
              "    .colab-df-convert {\n",
              "      background-color: #E8F0FE;\n",
              "      border: none;\n",
              "      border-radius: 50%;\n",
              "      cursor: pointer;\n",
              "      display: none;\n",
              "      fill: #1967D2;\n",
              "      height: 32px;\n",
              "      padding: 0 0 0 0;\n",
              "      width: 32px;\n",
              "    }\n",
              "\n",
              "    .colab-df-convert:hover {\n",
              "      background-color: #E2EBFA;\n",
              "      box-shadow: 0px 1px 2px rgba(60, 64, 67, 0.3), 0px 1px 3px 1px rgba(60, 64, 67, 0.15);\n",
              "      fill: #174EA6;\n",
              "    }\n",
              "\n",
              "    [theme=dark] .colab-df-convert {\n",
              "      background-color: #3B4455;\n",
              "      fill: #D2E3FC;\n",
              "    }\n",
              "\n",
              "    [theme=dark] .colab-df-convert:hover {\n",
              "      background-color: #434B5C;\n",
              "      box-shadow: 0px 1px 3px 1px rgba(0, 0, 0, 0.15);\n",
              "      filter: drop-shadow(0px 1px 2px rgba(0, 0, 0, 0.3));\n",
              "      fill: #FFFFFF;\n",
              "    }\n",
              "  </style>\n",
              "\n",
              "      <script>\n",
              "        const buttonEl =\n",
              "          document.querySelector('#df-7281df58-e819-47ac-87dc-f695a15a6fe4 button.colab-df-convert');\n",
              "        buttonEl.style.display =\n",
              "          google.colab.kernel.accessAllowed ? 'block' : 'none';\n",
              "\n",
              "        async function convertToInteractive(key) {\n",
              "          const element = document.querySelector('#df-7281df58-e819-47ac-87dc-f695a15a6fe4');\n",
              "          const dataTable =\n",
              "            await google.colab.kernel.invokeFunction('convertToInteractive',\n",
              "                                                     [key], {});\n",
              "          if (!dataTable) return;\n",
              "\n",
              "          const docLinkHtml = 'Like what you see? Visit the ' +\n",
              "            '<a target=\"_blank\" href=https://colab.research.google.com/notebooks/data_table.ipynb>data table notebook</a>'\n",
              "            + ' to learn more about interactive tables.';\n",
              "          element.innerHTML = '';\n",
              "          dataTable['output_type'] = 'display_data';\n",
              "          await google.colab.output.renderOutput(dataTable, element);\n",
              "          const docLink = document.createElement('div');\n",
              "          docLink.innerHTML = docLinkHtml;\n",
              "          element.appendChild(docLink);\n",
              "        }\n",
              "      </script>\n",
              "    </div>\n",
              "  </div>\n",
              "  "
            ]
          },
          "metadata": {},
          "execution_count": 7
        }
      ],
      "source": [
        "# Ковариационная матрица\n",
        "pd.DataFrame(cov)"
      ]
    },
    {
      "cell_type": "markdown",
      "id": "61885e7a",
      "metadata": {
        "id": "61885e7a"
      },
      "source": [
        "### 4. Нахождение собственных чисел и векторов "
      ]
    },
    {
      "cell_type": "markdown",
      "id": "0d9b9c6b",
      "metadata": {
        "id": "0d9b9c6b"
      },
      "source": [
        "Далее необходимо найти собственные числа и собственные векторы матрицы ковариаций, которые эквивалентны собственным числам и векторам исходной матрицы F. Для этого используем формулу определителя матрицы:\n",
        "\n",
        "$$ \\Large det(\\theta - \\lambda I)=0$$\n",
        "\n",
        ", где тетта - ковариационная матрица, I - единичная диагональная матрица, а лямда - собственные числа. После раскрытия определителя у нас появится полиномальное уравнение, для нахождения его коэффициентов применим **метод Леверрье**, который основан на формулах Ньютона для сумм степеней корней алгебраического уравнения. Коэффициенты вычисляются по следующей формуле, где S - сумма  элементов главной диагонали матрицы"
      ]
    },
    {
      "cell_type": "markdown",
      "source": [
        "![Метод_Лаверрье.png](data:image/png;base64,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)"
      ],
      "metadata": {
        "id": "eisbM1q8sIk2"
      },
      "id": "eisbM1q8sIk2"
    },
    {
      "cell_type": "code",
      "execution_count": 8,
      "id": "0fc84f18",
      "metadata": {
        "id": "0fc84f18"
      },
      "outputs": [],
      "source": [
        "def sum_main_diag(df):\n",
        "    \"\"\"Сумма элементов главной диагонали матрицы\"\"\"\n",
        "    \n",
        "    p = 0\n",
        "    for row in range(df.shape[0]):\n",
        "        for col in range(df.shape[1]):\n",
        "            if row == col:\n",
        "                p += df[row][col]\n",
        "    return p\n",
        "\n",
        "\n",
        "def find_char_coef(cov):\n",
        "    \"\"\"Нахождение коэффициентов характеристического уравнения\"\"\"\n",
        "    \n",
        "    a1 = cov\n",
        "    e = np.eye(len(cov))\n",
        "    p1 = sum_main_diag(a1)\n",
        "    b1 = a1 - p1*e\n",
        "    b = b1\n",
        "    \n",
        "    list_p = [1,-p1]\n",
        "    for num in range(2, a1.shape[0]+1):\n",
        "        a = a1.dot(b)\n",
        "        p = 1/num * sum_main_diag(a)\n",
        "        list_p.append(-p)\n",
        "        b = a - p*e\n",
        "        \n",
        "    return list_p"
      ]
    },
    {
      "cell_type": "code",
      "execution_count": 9,
      "id": "f7152dd9",
      "metadata": {
        "scrolled": true,
        "colab": {
          "base_uri": "https://localhost:8080/",
          "height": 0
        },
        "id": "f7152dd9",
        "outputId": "d2779339-a4df-41c4-cf9d-c7e9ba0b6f70"
      },
      "outputs": [
        {
          "output_type": "execute_result",
          "data": {
            "text/plain": [
              "[1,\n",
              " -29663.806469132513,\n",
              " 194632719.49444473,\n",
              " -331471657504.2726,\n",
              " 81403248093782.16,\n",
              " -5381907945836629.0]"
            ]
          },
          "metadata": {},
          "execution_count": 9
        }
      ],
      "source": [
        "# Коэффициенты характеристического уравнения\n",
        "find_char_coef(cov)"
      ]
    },
    {
      "cell_type": "markdown",
      "id": "a5f035a6",
      "metadata": {
        "id": "a5f035a6"
      },
      "source": [
        "Далее решаем полином, с уже найденными коэффициентами и находим собственные числа матрицы F"
      ]
    },
    {
      "cell_type": "code",
      "execution_count": 10,
      "id": "e5858e68",
      "metadata": {
        "id": "e5858e68"
      },
      "outputs": [],
      "source": [
        "def solve_poly(coeff):\n",
        "    \"\"\"Решение полинома с найденными коеффициентами\"\"\"\n",
        "    \n",
        "    res = np.roots(coeff)\n",
        "    return res"
      ]
    },
    {
      "cell_type": "code",
      "execution_count": 11,
      "id": "bcf8421f",
      "metadata": {
        "id": "bcf8421f"
      },
      "outputs": [],
      "source": [
        "own_numbers = solve_poly(find_char_coef(cov))"
      ]
    },
    {
      "cell_type": "code",
      "execution_count": 12,
      "id": "13850d77",
      "metadata": {
        "colab": {
          "base_uri": "https://localhost:8080/",
          "height": 0
        },
        "id": "13850d77",
        "outputId": "e736a768-39a7-43b0-d102-39a259279a1a"
      },
      "outputs": [
        {
          "output_type": "execute_result",
          "data": {
            "text/plain": [
              "array([21218.91478748,  5960.89614931,  2205.02025068,   152.13039356,\n",
              "         126.8448881 ])"
            ]
          },
          "metadata": {},
          "execution_count": 12
        }
      ],
      "source": [
        "# Собственные числа матрицы F\n",
        "own_numbers"
      ]
    },
    {
      "cell_type": "markdown",
      "id": "57ba6c0b",
      "metadata": {
        "id": "57ba6c0b"
      },
      "source": [
        "   Следующим этапом идет нахождение ортононормированных собственных векторов матрицы F, которые в том числе соответствуют собственным векторам ковариационной матрицы. Они вычисляются, с помощью линейных уравнений, исходя из формулы определителя матрицы. "
      ]
    },
    {
      "cell_type": "markdown",
      "id": "fa6cee40",
      "metadata": {
        "id": "fa6cee40"
      },
      "source": [
        "При таком решении, может получится тривиальный результат, где значения векторов примут нули. Нас такой случай не устраивает, поэтому зададим изначальное значение одной из неизвестных. Для того, чтобы в последующем сравнить результаты с работой библитеки numpy, возьмем начальное значение собственных векторов, полученных при помощи np.linalg.eig. Мы бы могли взять любое значение, например 0 и 1, но для проверки эксперимента, возьмем эти значения "
      ]
    },
    {
      "cell_type": "code",
      "execution_count": 13,
      "id": "9d684bcd",
      "metadata": {
        "id": "9d684bcd"
      },
      "outputs": [],
      "source": [
        "def gener_value_dict():\n",
        "    np_own_vectors= np.linalg.eig(cov)[1][4]\n",
        "    keys = range(np_own_vectors.shape[0])\n",
        "    values = np_own_vectors\n",
        "    value_dict = dict(zip(keys, values))\n",
        "    \n",
        "    return value_dict"
      ]
    },
    {
      "cell_type": "code",
      "execution_count": 14,
      "id": "3348d7b9",
      "metadata": {
        "colab": {
          "base_uri": "https://localhost:8080/",
          "height": 0
        },
        "id": "3348d7b9",
        "outputId": "8076a9b7-9bd5-458a-d23c-a06c53049196"
      },
      "outputs": [
        {
          "output_type": "execute_result",
          "data": {
            "text/plain": [
              "{0: -0.18957776981862784,\n",
              " 1: 0.18966797279633762,\n",
              " 2: 0.2697062222108464,\n",
              " 3: -0.28933924089955443,\n",
              " 4: 0.8784234096734579}"
            ]
          },
          "metadata": {},
          "execution_count": 14
        }
      ],
      "source": [
        "# Начальные значения одной из неизвестных СЛАУ\n",
        "gener_value_dict()"
      ]
    },
    {
      "cell_type": "code",
      "execution_count": 15,
      "id": "3d9a1c95",
      "metadata": {
        "id": "3d9a1c95"
      },
      "outputs": [],
      "source": [
        "def find_own_vectors(cov, own_numbers):\n",
        "    \"\"\"Нахождение собственных векторов\"\"\"\n",
        "    \n",
        "    own_vectors_df = pd.DataFrame(columns=[1,2,3,4,5])\n",
        "    for number in range(len(own_numbers)):\n",
        "        matrix = cov.copy()\n",
        "        for row in range(matrix.shape[0]):\n",
        "            for col in range(matrix.shape[1]):\n",
        "                if row == col:\n",
        "                    matrix[row][col] = matrix[row][col] - own_numbers[number]\n",
        "                    \n",
        "        M1 = matrix[:-1,:-1]\n",
        "        v1 = -gener_value_dict()[number] * matrix[:-1,-1]\n",
        "        own_vector = np.linalg.solve(M1, v1)\n",
        "        own_vector = np.append(own_vector, gener_value_dict()[number])\n",
        "        \n",
        "        own_vectors_df.loc[number,:] = own_vector\n",
        "        \n",
        "    return own_vectors_df"
      ]
    },
    {
      "cell_type": "code",
      "execution_count": 16,
      "id": "94948972",
      "metadata": {
        "id": "94948972"
      },
      "outputs": [],
      "source": [
        "own_vector = np.array(find_own_vectors(cov, own_numbers))"
      ]
    },
    {
      "cell_type": "code",
      "execution_count": 17,
      "id": "d26c8324",
      "metadata": {
        "scrolled": true,
        "colab": {
          "base_uri": "https://localhost:8080/",
          "height": 0
        },
        "id": "d26c8324",
        "outputId": "41043691-256b-4870-819e-b539a7f74863"
      },
      "outputs": [
        {
          "output_type": "execute_result",
          "data": {
            "text/plain": [
              "array([[0.18030654892972084, 0.2561652634550697, 0.9303354234904235,\n",
              "        -0.020128964242736726, -0.18957776981862784],\n",
              "       [-0.28199341362589375, 0.4701237426730512, -0.018526117421213587,\n",
              "        0.8143379054885139, 0.18966797279633762],\n",
              "       [-0.4565851490744485, 0.6182857728911184, -0.03931659500493311,\n",
              "        -0.5787620095882624, 0.2697062222108464],\n",
              "       [-0.823721729633318, -0.43317592985615, 0.22076389860242568,\n",
              "        0.03724556101079607, -0.28933924089955443],\n",
              "       [-0.03133333120418822, -0.3787404671972964, 0.28956914422415037,\n",
              "        0.009793106102544715, 0.8784234096734579]], dtype=object)"
            ]
          },
          "metadata": {},
          "execution_count": 17
        }
      ],
      "source": [
        "# Собственные вектора матрицы F\n",
        "own_vector"
      ]
    },
    {
      "cell_type": "markdown",
      "id": "25ded8e7",
      "metadata": {
        "id": "25ded8e7"
      },
      "source": [
        "### 5. Сингулярное разложение"
      ]
    },
    {
      "cell_type": "markdown",
      "id": "2d796010",
      "metadata": {
        "id": "2d796010"
      },
      "source": [
        "Мы нашли собственные вектора и собственные значения матрицы F, далее приступим к сингулярному разложению. Сначала найдем s - диагональную матрицу сингулярных значений и v - матрицу левых сингулярных векторов"
      ]
    },
    {
      "cell_type": "code",
      "execution_count": 18,
      "id": "05bae807",
      "metadata": {
        "id": "05bae807"
      },
      "outputs": [],
      "source": [
        "def create_own_numbers_diag_matr(own_numbers):\n",
        "    \"\"\"Создание диагональной матрицы сингулярных значений\"\"\"\n",
        "    \n",
        "    own_numbers_sqrt = own_numbers**(0.5)\n",
        "    own_numbers_diag = np.diag(own_numbers_sqrt)\n",
        "    return own_numbers_diag"
      ]
    },
    {
      "cell_type": "code",
      "execution_count": 19,
      "id": "c4f70a10",
      "metadata": {
        "scrolled": true,
        "id": "c4f70a10"
      },
      "outputs": [],
      "source": [
        "s = create_own_numbers_diag_matr(own_numbers)"
      ]
    },
    {
      "cell_type": "code",
      "execution_count": 20,
      "id": "da45c274",
      "metadata": {
        "id": "da45c274"
      },
      "outputs": [],
      "source": [
        "def calc_V(F, s, u):\n",
        "    \"\"\"Вычисление матрицы правых сингулярных векторов\"\"\"\n",
        "    \n",
        "    v = F.dot(u.T).dot(np.linalg.inv(s))\n",
        "    return v"
      ]
    },
    {
      "cell_type": "code",
      "execution_count": 21,
      "id": "e968517e",
      "metadata": {
        "id": "e968517e"
      },
      "outputs": [],
      "source": [
        "v = calc_V(np.array(df), s, own_vector)"
      ]
    },
    {
      "cell_type": "markdown",
      "id": "a4b7dce0",
      "metadata": {
        "id": "a4b7dce0"
      },
      "source": [
        "Теперь проверим, правильно ли мы разложили матрицу F, с помощью спектрального разложения"
      ]
    },
    {
      "cell_type": "code",
      "execution_count": 22,
      "id": "eda84261",
      "metadata": {
        "id": "eda84261"
      },
      "outputs": [],
      "source": [
        "def calc_F(v, s, u):\n",
        "    \"\"\"Проверка правильного сингулярного разложения матрицы\"\"\"\n",
        "    \n",
        "    F = v.dot(s).dot(u)\n",
        "    if_coincide = np.allclose(np.array(df), np.array(F, float))\n",
        "    if if_coincide == True:\n",
        "        print('Сингулярное разложение матрицы реализовано верно')\n",
        "    else:\n",
        "        print('Сингулярное разложение матрицы реализовано не верно')"
      ]
    },
    {
      "cell_type": "code",
      "execution_count": 23,
      "id": "1353630c",
      "metadata": {
        "scrolled": false,
        "colab": {
          "base_uri": "https://localhost:8080/",
          "height": 0
        },
        "id": "1353630c",
        "outputId": "e0f49768-4fe1-49e9-9709-e70bceaaf159"
      },
      "outputs": [
        {
          "output_type": "stream",
          "name": "stdout",
          "text": [
            "Сингулярное разложение матрицы реализовано верно\n"
          ]
        }
      ],
      "source": [
        "calc_F(v, s, own_vector)"
      ]
    },
    {
      "cell_type": "markdown",
      "id": "51d8685a",
      "metadata": {
        "id": "51d8685a"
      },
      "source": [
        "### 6. Опрделение достаточного количества компонент"
      ]
    },
    {
      "cell_type": "markdown",
      "id": "070645f9",
      "metadata": {
        "id": "070645f9"
      },
      "source": [
        "Далее построим график зависимости доли объясненной дисперсии от количества главных компонент, для того, чтобы проанализировать оптимальное количество главных компонент для данной задачи"
      ]
    },
    {
      "cell_type": "code",
      "execution_count": 24,
      "id": "62b03339",
      "metadata": {
        "id": "62b03339"
      },
      "outputs": [],
      "source": [
        "def explained_variance_plot(own_numbers):\n",
        "    \"\"\"Построение графика зависимости доли объясненной дисперсии от количества главных компонент\"\"\"\n",
        "    \n",
        "    own_numbers_df = pd.DataFrame(own_numbers)\n",
        "    ratio_func = lambda x: x/own_numbers.sum()\n",
        "    explained_variance_ratio = own_numbers_df.apply(ratio_func)\n",
        "    explained_variance_ratio_cumsum = np.cumsum(explained_variance_ratio[0])\n",
        "    component_range = range(1, len(explained_variance_ratio)+1)\n",
        "    \n",
        "    plt.plot(component_range,explained_variance_ratio_cumsum)\n",
        "    plt.xlabel('Количество главных компонент', fontsize=14)\n",
        "    plt.ylabel('Доля объясненной дисперсии', fontsize=14)"
      ]
    },
    {
      "cell_type": "code",
      "execution_count": 25,
      "id": "f2b89a94",
      "metadata": {
        "scrolled": false,
        "colab": {
          "base_uri": "https://localhost:8080/",
          "height": 395
        },
        "id": "f2b89a94",
        "outputId": "9f3ead86-2ca9-465c-c7ef-c9095a68e6da"
      },
      "outputs": [
        {
          "output_type": "display_data",
          "data": {
            "text/plain": [
              "<Figure size 720x432 with 1 Axes>"
            ],
            "image/png": "[encoded data removed]"
          },
          "metadata": {}
        }
      ],
      "source": [
        "explained_variance_plot(own_numbers)"
      ]
    },
    {
      "cell_type": "code",
      "execution_count": 26,
      "id": "48e94710",
      "metadata": {
        "id": "48e94710"
      },
      "outputs": [],
      "source": [
        "def own_numbers_plot(own_numbers):\n",
        "    \"\"\"Построение графика зависимости доли объясненной дисперсии от количества главных компонент\"\"\"\n",
        "    \n",
        "    component_range = range(1, len(own_numbers)+1)\n",
        "    plt.plot(component_range,own_numbers)\n",
        "    plt.xlabel('Количество главных компонент', fontsize=14)\n",
        "    plt.ylabel('Собственные значения матрицы', fontsize=14)"
      ]
    },
    {
      "cell_type": "code",
      "execution_count": 27,
      "id": "c7874437",
      "metadata": {
        "colab": {
          "base_uri": "https://localhost:8080/",
          "height": 395
        },
        "id": "c7874437",
        "outputId": "b259198f-e245-4123-82e6-34856bc29fd5"
      },
      "outputs": [
        {
          "output_type": "display_data",
          "data": {
            "text/plain": [
              "<Figure size 720x432 with 1 Axes>"
            ],
            "image/png": "[encoded data removed]"
          },
          "metadata": {}
        }
      ],
      "source": [
        "own_numbers_plot(own_numbers)"
      ]
    },
    {
      "cell_type": "code",
      "execution_count": 28,
      "id": "4787a9ae",
      "metadata": {
        "colab": {
          "base_uri": "https://localhost:8080/",
          "height": 0
        },
        "id": "4787a9ae",
        "outputId": "4c86b753-22a9-4f70-dd5e-9ae58d95c34f"
      },
      "outputs": [
        {
          "output_type": "stream",
          "name": "stdout",
          "text": [
            "Первые 3 главные компоненты описывают 1.0 процентов дисперсии данных\n"
          ]
        }
      ],
      "source": [
        "first_three = own_numbers[0:3]\n",
        "own_numbers_df = pd.DataFrame(first_three)\n",
        "ratio_func = lambda x: x/first_three.sum()\n",
        "explained_variance_ratio = own_numbers_df.apply(ratio_func)\n",
        "explained_variance_ratio_cumsum = np.cumsum(explained_variance_ratio[0])\n",
        "sum = explained_variance_ratio_cumsum[2]\n",
        "print(f'Первые 3 главные компоненты описывают {sum} процентов дисперсии данных')"
      ]
    },
    {
      "cell_type": "markdown",
      "id": "1ed9d00c",
      "metadata": {
        "id": "1ed9d00c"
      },
      "source": [
        "Из графика видно, что 3 первых главных компоненты описывают практически 100 процентов дисперсии данных. Таким образом, используя метод главных компонент, мы определили, что **достаточное количество компонент для описания процесса - 3**. "
      ]
    }
  ],
  "metadata": {
    "kernelspec": {
      "display_name": "Python 3 (ipykernel)",
      "language": "python",
      "name": "python3"
    },
    "language_info": {
      "codemirror_mode": {
        "name": "ipython",
        "version": 3
      },
      "file_extension": ".py",
      "mimetype": "text/x-python",
      "name": "python",
      "nbconvert_exporter": "python",
      "pygments_lexer": "ipython3",
      "version": "3.9.12"
    },
    "colab": {
      "provenance": []
    }
  },
  "nbformat": 4,
  "nbformat_minor": 5
}