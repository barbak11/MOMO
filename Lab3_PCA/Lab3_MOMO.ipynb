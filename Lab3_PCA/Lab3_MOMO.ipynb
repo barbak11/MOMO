{
  "cells": [
    {
      "cell_type": "markdown",
      "id": "5a3590f2",
      "metadata": {
        "id": "5a3590f2"
      },
      "source": [
        "# Алгоритмы разложения матриц. PCA."
      ]
    },
    {
      "cell_type": "markdown",
      "id": "c3835679",
      "metadata": {
        "id": "c3835679"
      },
      "source": [
        "### 1. Настройка среды"
      ]
    },
    {
      "cell_type": "code",
      "execution_count": null,
      "id": "b132c4af",
      "metadata": {
        "id": "b132c4af"
      },
      "outputs": [],
      "source": [
        "#Импорт необходимых библиотек\n",
        "import pandas as pd\n",
        "import numpy as np\n",
        "import matplotlib.pyplot as plt\n",
        "import scipy\n",
        "import seaborn as sns\n",
        "plt.style.use('ggplot')\n",
        "%matplotlib inline\n",
        "plt.rcParams[\"figure.figsize\"] = (10,6)\n",
        "sns.set_theme(style='darkgrid', palette='husl')\n",
        "\n",
        "import warnings\n",
        "warnings.filterwarnings(action='ignore')"
      ]
    },
    {
      "cell_type": "code",
      "execution_count": null,
      "id": "e3cb2b2b",
      "metadata": {
        "scrolled": false,
        "colab": {
          "base_uri": "https://localhost:8080/",
          "height": 206
        },
        "id": "e3cb2b2b",
        "outputId": "622fd2d2-ed97-488f-e7e0-74acf0ef1eda"
      },
      "outputs": [
        {
          "output_type": "execute_result",
          "data": {
            "text/plain": [
              "           0          1          2          3          4\n",
              "0  10.382991 -14.438544 -23.950798 -17.809813   2.480495\n",
              "1  18.987842 -13.071734  15.619164 -11.288528 -11.624820\n",
              "2   7.426000  -9.236580 -21.139348   6.732592   0.447684\n",
              "3  10.718844 -10.240587 -20.604991   4.828083  -0.073568\n",
              "4  10.662165   3.871777  12.384108  -1.921321  -1.990254"
            ],
            "text/html": [
              "\n",
              "  <div id=\"df-190dce82-841d-4570-8e9f-cd047a796b0c\">\n",
              "    <div class=\"colab-df-container\">\n",
              "      <div>\n",
              "<style scoped>\n",
              "    .dataframe tbody tr th:only-of-type {\n",
              "        vertical-align: middle;\n",
              "    }\n",
              "\n",
              "    .dataframe tbody tr th {\n",
              "        vertical-align: top;\n",
              "    }\n",
              "\n",
              "    .dataframe thead th {\n",
              "        text-align: right;\n",
              "    }\n",
              "</style>\n",
              "<table border=\"1\" class=\"dataframe\">\n",
              "  <thead>\n",
              "    <tr style=\"text-align: right;\">\n",
              "      <th></th>\n",
              "      <th>0</th>\n",
              "      <th>1</th>\n",
              "      <th>2</th>\n",
              "      <th>3</th>\n",
              "      <th>4</th>\n",
              "    </tr>\n",
              "  </thead>\n",
              "  <tbody>\n",
              "    <tr>\n",
              "      <th>0</th>\n",
              "      <td>10.382991</td>\n",
              "      <td>-14.438544</td>\n",
              "      <td>-23.950798</td>\n",
              "      <td>-17.809813</td>\n",
              "      <td>2.480495</td>\n",
              "    </tr>\n",
              "    <tr>\n",
              "      <th>1</th>\n",
              "      <td>18.987842</td>\n",
              "      <td>-13.071734</td>\n",
              "      <td>15.619164</td>\n",
              "      <td>-11.288528</td>\n",
              "      <td>-11.624820</td>\n",
              "    </tr>\n",
              "    <tr>\n",
              "      <th>2</th>\n",
              "      <td>7.426000</td>\n",
              "      <td>-9.236580</td>\n",
              "      <td>-21.139348</td>\n",
              "      <td>6.732592</td>\n",
              "      <td>0.447684</td>\n",
              "    </tr>\n",
              "    <tr>\n",
              "      <th>3</th>\n",
              "      <td>10.718844</td>\n",
              "      <td>-10.240587</td>\n",
              "      <td>-20.604991</td>\n",
              "      <td>4.828083</td>\n",
              "      <td>-0.073568</td>\n",
              "    </tr>\n",
              "    <tr>\n",
              "      <th>4</th>\n",
              "      <td>10.662165</td>\n",
              "      <td>3.871777</td>\n",
              "      <td>12.384108</td>\n",
              "      <td>-1.921321</td>\n",
              "      <td>-1.990254</td>\n",
              "    </tr>\n",
              "  </tbody>\n",
              "</table>\n",
              "</div>\n",
              "      <button class=\"colab-df-convert\" onclick=\"convertToInteractive('df-190dce82-841d-4570-8e9f-cd047a796b0c')\"\n",
              "              title=\"Convert this dataframe to an interactive table.\"\n",
              "              style=\"display:none;\">\n",
              "        \n",
              "  <svg xmlns=\"http://www.w3.org/2000/svg\" height=\"24px\"viewBox=\"0 0 24 24\"\n",
              "       width=\"24px\">\n",
              "    <path d=\"M0 0h24v24H0V0z\" fill=\"none\"/>\n",
              "    <path d=\"M18.56 5.44l.94 2.06.94-2.06 2.06-.94-2.06-.94-.94-2.06-.94 2.06-2.06.94zm-11 1L8.5 8.5l.94-2.06 2.06-.94-2.06-.94L8.5 2.5l-.94 2.06-2.06.94zm10 10l.94 2.06.94-2.06 2.06-.94-2.06-.94-.94-2.06-.94 2.06-2.06.94z\"/><path d=\"M17.41 7.96l-1.37-1.37c-.4-.4-.92-.59-1.43-.59-.52 0-1.04.2-1.43.59L10.3 9.45l-7.72 7.72c-.78.78-.78 2.05 0 2.83L4 21.41c.39.39.9.59 1.41.59.51 0 1.02-.2 1.41-.59l7.78-7.78 2.81-2.81c.8-.78.8-2.07 0-2.86zM5.41 20L4 18.59l7.72-7.72 1.47 1.35L5.41 20z\"/>\n",
              "  </svg>\n",
              "      </button>\n",
              "      \n",
              "  <style>\n",
              "    .colab-df-container {\n",
              "      display:flex;\n",
              "      flex-wrap:wrap;\n",
              "      gap: 12px;\n",
              "    }\n",
              "\n",
              "    .colab-df-convert {\n",
              "      background-color: #E8F0FE;\n",
              "      border: none;\n",
              "      border-radius: 50%;\n",
              "      cursor: pointer;\n",
              "      display: none;\n",
              "      fill: #1967D2;\n",
              "      height: 32px;\n",
              "      padding: 0 0 0 0;\n",
              "      width: 32px;\n",
              "    }\n",
              "\n",
              "    .colab-df-convert:hover {\n",
              "      background-color: #E2EBFA;\n",
              "      box-shadow: 0px 1px 2px rgba(60, 64, 67, 0.3), 0px 1px 3px 1px rgba(60, 64, 67, 0.15);\n",
              "      fill: #174EA6;\n",
              "    }\n",
              "\n",
              "    [theme=dark] .colab-df-convert {\n",
              "      background-color: #3B4455;\n",
              "      fill: #D2E3FC;\n",
              "    }\n",
              "\n",
              "    [theme=dark] .colab-df-convert:hover {\n",
              "      background-color: #434B5C;\n",
              "      box-shadow: 0px 1px 3px 1px rgba(0, 0, 0, 0.15);\n",
              "      filter: drop-shadow(0px 1px 2px rgba(0, 0, 0, 0.3));\n",
              "      fill: #FFFFFF;\n",
              "    }\n",
              "  </style>\n",
              "\n",
              "      <script>\n",
              "        const buttonEl =\n",
              "          document.querySelector('#df-190dce82-841d-4570-8e9f-cd047a796b0c button.colab-df-convert');\n",
              "        buttonEl.style.display =\n",
              "          google.colab.kernel.accessAllowed ? 'block' : 'none';\n",
              "\n",
              "        async function convertToInteractive(key) {\n",
              "          const element = document.querySelector('#df-190dce82-841d-4570-8e9f-cd047a796b0c');\n",
              "          const dataTable =\n",
              "            await google.colab.kernel.invokeFunction('convertToInteractive',\n",
              "                                                     [key], {});\n",
              "          if (!dataTable) return;\n",
              "\n",
              "          const docLinkHtml = 'Like what you see? Visit the ' +\n",
              "            '<a target=\"_blank\" href=https://colab.research.google.com/notebooks/data_table.ipynb>data table notebook</a>'\n",
              "            + ' to learn more about interactive tables.';\n",
              "          element.innerHTML = '';\n",
              "          dataTable['output_type'] = 'display_data';\n",
              "          await google.colab.output.renderOutput(dataTable, element);\n",
              "          const docLink = document.createElement('div');\n",
              "          docLink.innerHTML = docLinkHtml;\n",
              "          element.appendChild(docLink);\n",
              "        }\n",
              "      </script>\n",
              "    </div>\n",
              "  </div>\n",
              "  "
            ]
          },
          "metadata": {},
          "execution_count": 2
        }
      ],
      "source": [
        "df = pd.read_csv('94_16.csv', header=None)\n",
        "df = df.loc[:, 0:4]\n",
        "df.head()"
      ]
    },
    {
      "cell_type": "markdown",
      "id": "9a249299",
      "metadata": {
        "id": "9a249299"
      },
      "source": [
        "Датасет представляет из себя набор непрерывных величин, для дальнейшей работы оставляем 5 первых признаков. Объекты - строки матрицы"
      ]
    },
    {
      "cell_type": "markdown",
      "id": "89f17280",
      "metadata": {
        "id": "89f17280"
      },
      "source": [
        "Нашей задачей является реализация метода главных компонент. Находить главные компоненты мы будем с помощью сингулярного разложения исходной матрицы F, размером nxp. Матрица представляется следующим образом:"
      ]
    },
    {
      "cell_type": "markdown",
      "source": [
        "![Снимок экрана (209).png](data:image/png;base64,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)"
      ],
      "metadata": {
        "id": "EdvynVpz0NhZ"
      },
      "id": "EdvynVpz0NhZ"
    },
    {
      "cell_type": "markdown",
      "source": [
        ", где S - диагональная матрица сингулярных значений, а V и U - левые и правые сингулярные векторы соответсвенно"
      ],
      "metadata": {
        "id": "-neTEdxy0KZS"
      },
      "id": "-neTEdxy0KZS"
    },
    {
      "cell_type": "markdown",
      "id": "5fa06ca2",
      "metadata": {
        "id": "5fa06ca2"
      },
      "source": [
        "### 2. Подготовка данных"
      ]
    },
    {
      "cell_type": "markdown",
      "id": "6510d898",
      "metadata": {
        "id": "6510d898"
      },
      "source": [
        "Вектора главых компонент должны проходить через центр выборки, поэтому первым шагом метода главных компонент выступает центрирование данных"
      ]
    },
    {
      "cell_type": "code",
      "execution_count": null,
      "id": "9fe48207",
      "metadata": {
        "id": "9fe48207"
      },
      "outputs": [],
      "source": [
        "def data_centering(df):\n",
        "    \"\"\"Центрирование значений матрицы\"\"\"\n",
        "    \n",
        "    df_shape = df.shape[1]\n",
        "    for i in range(df_shape):\n",
        "        df[i] = df[i] - df[i].mean()"
      ]
    },
    {
      "cell_type": "code",
      "execution_count": null,
      "id": "89a7abe9",
      "metadata": {
        "id": "89a7abe9"
      },
      "outputs": [],
      "source": [
        "data_centering(df=df)"
      ]
    },
    {
      "cell_type": "markdown",
      "id": "2027c333",
      "metadata": {
        "id": "2027c333"
      },
      "source": [
        "### 3. Нахождение ковариационной матрицы"
      ]
    },
    {
      "cell_type": "markdown",
      "id": "18496e70",
      "metadata": {
        "id": "18496e70"
      },
      "source": [
        "Для дальнейшего нахождения собственных значений и собственных векторов матрицы, необходимо найти ковариацинную матрицу, которая вычисляется по формуле:  "
      ]
    },
    {
      "cell_type": "markdown",
      "source": [
        "![Снимок экрана (211).png](data:image/png;base64,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)"
      ],
      "metadata": {
        "id": "RBAV1SWS0eyq"
      },
      "id": "RBAV1SWS0eyq"
    },
    {
      "cell_type": "markdown",
      "source": [
        ", где F - центрированная матрица, содержащая информацию об n объектов, обладающих p признаками"
      ],
      "metadata": {
        "id": "Mhhl3CZJ0b4b"
      },
      "id": "Mhhl3CZJ0b4b"
    },
    {
      "cell_type": "code",
      "execution_count": null,
      "id": "e319409d",
      "metadata": {
        "id": "e319409d"
      },
      "outputs": [],
      "source": [
        "def cov_matrix(df):\n",
        "    \"\"\"Вычисление ковариционной матрицы\"\"\"\n",
        "    \n",
        "    df_len = df.shape[0]\n",
        "    df_matrix = np.array(df)\n",
        "    cov_matrix = df_matrix.T.dot(df_matrix)\n",
        "    \n",
        "    return cov_matrix"
      ]
    },
    {
      "cell_type": "code",
      "execution_count": null,
      "id": "4bcae93b",
      "metadata": {
        "id": "4bcae93b"
      },
      "outputs": [],
      "source": [
        "cov = cov_matrix(df=df)"
      ]
    },
    {
      "cell_type": "code",
      "execution_count": null,
      "id": "4671582e",
      "metadata": {
        "scrolled": false,
        "colab": {
          "base_uri": "https://localhost:8080/",
          "height": 206
        },
        "id": "4671582e",
        "outputId": "541c812a-2cbe-4297-ea17-8d7408896100"
      },
      "outputs": [
        {
          "output_type": "execute_result",
          "data": {
            "text/plain": [
              "             0            1             2            3            4\n",
              "0  1726.876898  -376.871187   3601.287763  -867.879972 -1282.894558\n",
              "1  -376.871187  3599.524547   4922.905813  1380.684961  -154.375589\n",
              "2  3601.287763  4922.905813  18388.984710  -435.503462 -3764.179372\n",
              "3  -867.879972  1380.684961   -435.503462  4700.371989   656.912167\n",
              "4 -1282.894558  -154.375589  -3764.179372   656.912167  1248.048325"
            ],
            "text/html": [
              "\n",
              "  <div id=\"df-7281df58-e819-47ac-87dc-f695a15a6fe4\">\n",
              "    <div class=\"colab-df-container\">\n",
              "      <div>\n",
              "<style scoped>\n",
              "    .dataframe tbody tr th:only-of-type {\n",
              "        vertical-align: middle;\n",
              "    }\n",
              "\n",
              "    .dataframe tbody tr th {\n",
              "        vertical-align: top;\n",
              "    }\n",
              "\n",
              "    .dataframe thead th {\n",
              "        text-align: right;\n",
              "    }\n",
              "</style>\n",
              "<table border=\"1\" class=\"dataframe\">\n",
              "  <thead>\n",
              "    <tr style=\"text-align: right;\">\n",
              "      <th></th>\n",
              "      <th>0</th>\n",
              "      <th>1</th>\n",
              "      <th>2</th>\n",
              "      <th>3</th>\n",
              "      <th>4</th>\n",
              "    </tr>\n",
              "  </thead>\n",
              "  <tbody>\n",
              "    <tr>\n",
              "      <th>0</th>\n",
              "      <td>1726.876898</td>\n",
              "      <td>-376.871187</td>\n",
              "      <td>3601.287763</td>\n",
              "      <td>-867.879972</td>\n",
              "      <td>-1282.894558</td>\n",
              "    </tr>\n",
              "    <tr>\n",
              "      <th>1</th>\n",
              "      <td>-376.871187</td>\n",
              "      <td>3599.524547</td>\n",
              "      <td>4922.905813</td>\n",
              "      <td>1380.684961</td>\n",
              "      <td>-154.375589</td>\n",
              "    </tr>\n",
              "    <tr>\n",
              "      <th>2</th>\n",
              "      <td>3601.287763</td>\n",
              "      <td>4922.905813</td>\n",
              "      <td>18388.984710</td>\n",
              "      <td>-435.503462</td>\n",
              "      <td>-3764.179372</td>\n",
              "    </tr>\n",
              "    <tr>\n",
              "      <th>3</th>\n",
              "      <td>-867.879972</td>\n",
              "      <td>1380.684961</td>\n",
              "      <td>-435.503462</td>\n",
              "      <td>4700.371989</td>\n",
              "      <td>656.912167</td>\n",
              "    </tr>\n",
              "    <tr>\n",
              "      <th>4</th>\n",
              "      <td>-1282.894558</td>\n",
              "      <td>-154.375589</td>\n",
              "      <td>-3764.179372</td>\n",
              "      <td>656.912167</td>\n",
              "      <td>1248.048325</td>\n",
              "    </tr>\n",
              "  </tbody>\n",
              "</table>\n",
              "</div>\n",
              "      <button class=\"colab-df-convert\" onclick=\"convertToInteractive('df-7281df58-e819-47ac-87dc-f695a15a6fe4')\"\n",
              "              title=\"Convert this dataframe to an interactive table.\"\n",
              "              style=\"display:none;\">\n",
              "        \n",
              "  <svg xmlns=\"http://www.w3.org/2000/svg\" height=\"24px\"viewBox=\"0 0 24 24\"\n",
              "       width=\"24px\">\n",
              "    <path d=\"M0 0h24v24H0V0z\" fill=\"none\"/>\n",
              "    <path d=\"M18.56 5.44l.94 2.06.94-2.06 2.06-.94-2.06-.94-.94-2.06-.94 2.06-2.06.94zm-11 1L8.5 8.5l.94-2.06 2.06-.94-2.06-.94L8.5 2.5l-.94 2.06-2.06.94zm10 10l.94 2.06.94-2.06 2.06-.94-2.06-.94-.94-2.06-.94 2.06-2.06.94z\"/><path d=\"M17.41 7.96l-1.37-1.37c-.4-.4-.92-.59-1.43-.59-.52 0-1.04.2-1.43.59L10.3 9.45l-7.72 7.72c-.78.78-.78 2.05 0 2.83L4 21.41c.39.39.9.59 1.41.59.51 0 1.02-.2 1.41-.59l7.78-7.78 2.81-2.81c.8-.78.8-2.07 0-2.86zM5.41 20L4 18.59l7.72-7.72 1.47 1.35L5.41 20z\"/>\n",
              "  </svg>\n",
              "      </button>\n",
              "      \n",
              "  <style>\n",
              "    .colab-df-container {\n",
              "      display:flex;\n",
              "      flex-wrap:wrap;\n",
              "      gap: 12px;\n",
              "    }\n",
              "\n",
              "    .colab-df-convert {\n",
              "      background-color: #E8F0FE;\n",
              "      border: none;\n",
              "      border-radius: 50%;\n",
              "      cursor: pointer;\n",
              "      display: none;\n",
              "      fill: #1967D2;\n",
              "      height: 32px;\n",
              "      padding: 0 0 0 0;\n",
              "      width: 32px;\n",
              "    }\n",
              "\n",
              "    .colab-df-convert:hover {\n",
              "      background-color: #E2EBFA;\n",
              "      box-shadow: 0px 1px 2px rgba(60, 64, 67, 0.3), 0px 1px 3px 1px rgba(60, 64, 67, 0.15);\n",
              "      fill: #174EA6;\n",
              "    }\n",
              "\n",
              "    [theme=dark] .colab-df-convert {\n",
              "      background-color: #3B4455;\n",
              "      fill: #D2E3FC;\n",
              "    }\n",
              "\n",
              "    [theme=dark] .colab-df-convert:hover {\n",
              "      background-color: #434B5C;\n",
              "      box-shadow: 0px 1px 3px 1px rgba(0, 0, 0, 0.15);\n",
              "      filter: drop-shadow(0px 1px 2px rgba(0, 0, 0, 0.3));\n",
              "      fill: #FFFFFF;\n",
              "    }\n",
              "  </style>\n",
              "\n",
              "      <script>\n",
              "        const buttonEl =\n",
              "          document.querySelector('#df-7281df58-e819-47ac-87dc-f695a15a6fe4 button.colab-df-convert');\n",
              "        buttonEl.style.display =\n",
              "          google.colab.kernel.accessAllowed ? 'block' : 'none';\n",
              "\n",
              "        async function convertToInteractive(key) {\n",
              "          const element = document.querySelector('#df-7281df58-e819-47ac-87dc-f695a15a6fe4');\n",
              "          const dataTable =\n",
              "            await google.colab.kernel.invokeFunction('convertToInteractive',\n",
              "                                                     [key], {});\n",
              "          if (!dataTable) return;\n",
              "\n",
              "          const docLinkHtml = 'Like what you see? Visit the ' +\n",
              "            '<a target=\"_blank\" href=https://colab.research.google.com/notebooks/data_table.ipynb>data table notebook</a>'\n",
              "            + ' to learn more about interactive tables.';\n",
              "          element.innerHTML = '';\n",
              "          dataTable['output_type'] = 'display_data';\n",
              "          await google.colab.output.renderOutput(dataTable, element);\n",
              "          const docLink = document.createElement('div');\n",
              "          docLink.innerHTML = docLinkHtml;\n",
              "          element.appendChild(docLink);\n",
              "        }\n",
              "      </script>\n",
              "    </div>\n",
              "  </div>\n",
              "  "
            ]
          },
          "metadata": {},
          "execution_count": 7
        }
      ],
      "source": [
        "# Ковариационная матрица\n",
        "pd.DataFrame(cov)"
      ]
    },
    {
      "cell_type": "markdown",
      "id": "61885e7a",
      "metadata": {
        "id": "61885e7a"
      },
      "source": [
        "### 4. Нахождение собственных чисел и векторов "
      ]
    },
    {
      "cell_type": "markdown",
      "id": "0d9b9c6b",
      "metadata": {
        "id": "0d9b9c6b"
      },
      "source": [
        "Далее необходимо найти собственные числа и собственные векторы матрицы ковариаций, которые эквивалентны собственным числам и векторам исходной матрицы F. Для этого используем формулу определителя матрицы:"
      ]
    },
    {
      "cell_type": "markdown",
      "source": [
        "![Снимок экрана (210).png](data:image/png;base64,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)"
      ],
      "metadata": {
        "id": "hiFNjYIx0lNK"
      },
      "id": "hiFNjYIx0lNK"
    },
    {
      "cell_type": "markdown",
      "source": [
        ", где тетта - ковариационная матрица, I - единичная диагональная матрица, а лямда - собственные числа. После раскрытия определителя у нас появится полиномальное уравнение, для нахождения его коэффициентов применим **метод Леверрье**, который основан на формулах Ньютона для сумм степеней корней алгебраического уравнения. Коэффициенты вычисляются по следующей формуле, где S - сумма  элементов главной диагонали матрицы"
      ],
      "metadata": {
        "id": "NYejfxq40hvE"
      },
      "id": "NYejfxq40hvE"
    },
    {
      "cell_type": "markdown",
      "source": [
        "![Метод_Лаверрье.png](data:image/png;base64,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)"
      ],
      "metadata": {
        "id": "eisbM1q8sIk2"
      },
      "id": "eisbM1q8sIk2"
    },
    {
      "cell_type": "code",
      "execution_count": null,
      "id": "0fc84f18",
      "metadata": {
        "id": "0fc84f18"
      },
      "outputs": [],
      "source": [
        "def sum_main_diag(df):\n",
        "    \"\"\"Сумма элементов главной диагонали матрицы\"\"\"\n",
        "    \n",
        "    p = 0\n",
        "    for row in range(df.shape[0]):\n",
        "        for col in range(df.shape[1]):\n",
        "            if row == col:\n",
        "                p += df[row][col]\n",
        "    return p\n",
        "\n",
        "\n",
        "def find_char_coef(cov):\n",
        "    \"\"\"Нахождение коэффициентов характеристического уравнения\"\"\"\n",
        "    \n",
        "    a1 = cov\n",
        "    e = np.eye(len(cov))\n",
        "    p1 = sum_main_diag(a1)\n",
        "    b1 = a1 - p1*e\n",
        "    b = b1\n",
        "    \n",
        "    list_p = [1,-p1]\n",
        "    for num in range(2, a1.shape[0]+1):\n",
        "        a = a1.dot(b)\n",
        "        p = 1/num * sum_main_diag(a)\n",
        "        list_p.append(-p)\n",
        "        b = a - p*e\n",
        "        \n",
        "    return list_p"
      ]
    },
    {
      "cell_type": "code",
      "execution_count": null,
      "id": "f7152dd9",
      "metadata": {
        "scrolled": true,
        "colab": {
          "base_uri": "https://localhost:8080/"
        },
        "id": "f7152dd9",
        "outputId": "d2779339-a4df-41c4-cf9d-c7e9ba0b6f70"
      },
      "outputs": [
        {
          "output_type": "execute_result",
          "data": {
            "text/plain": [
              "[1,\n",
              " -29663.806469132513,\n",
              " 194632719.49444473,\n",
              " -331471657504.2726,\n",
              " 81403248093782.16,\n",
              " -5381907945836629.0]"
            ]
          },
          "metadata": {},
          "execution_count": 9
        }
      ],
      "source": [
        "# Коэффициенты характеристического уравнения\n",
        "find_char_coef(cov)"
      ]
    },
    {
      "cell_type": "markdown",
      "id": "a5f035a6",
      "metadata": {
        "id": "a5f035a6"
      },
      "source": [
        "Далее решаем полином, с уже найденными коэффициентами и находим собственные числа матрицы F"
      ]
    },
    {
      "cell_type": "code",
      "execution_count": null,
      "id": "e5858e68",
      "metadata": {
        "id": "e5858e68"
      },
      "outputs": [],
      "source": [
        "def solve_poly(coeff):\n",
        "    \"\"\"Решение полинома с найденными коеффициентами\"\"\"\n",
        "    \n",
        "    res = np.roots(coeff)\n",
        "    return res"
      ]
    },
    {
      "cell_type": "code",
      "execution_count": null,
      "id": "bcf8421f",
      "metadata": {
        "id": "bcf8421f"
      },
      "outputs": [],
      "source": [
        "own_numbers = solve_poly(find_char_coef(cov))"
      ]
    },
    {
      "cell_type": "code",
      "execution_count": null,
      "id": "13850d77",
      "metadata": {
        "colab": {
          "base_uri": "https://localhost:8080/"
        },
        "id": "13850d77",
        "outputId": "e736a768-39a7-43b0-d102-39a259279a1a"
      },
      "outputs": [
        {
          "output_type": "execute_result",
          "data": {
            "text/plain": [
              "array([21218.91478748,  5960.89614931,  2205.02025068,   152.13039356,\n",
              "         126.8448881 ])"
            ]
          },
          "metadata": {},
          "execution_count": 12
        }
      ],
      "source": [
        "# Собственные числа матрицы F\n",
        "own_numbers"
      ]
    },
    {
      "cell_type": "markdown",
      "id": "57ba6c0b",
      "metadata": {
        "id": "57ba6c0b"
      },
      "source": [
        "   Следующим этапом идет нахождение ортононормированных собственных векторов матрицы F, которые в том числе соответствуют собственным векторам ковариационной матрицы. Они вычисляются, с помощью линейных уравнений, исходя из формулы определителя матрицы. "
      ]
    },
    {
      "cell_type": "markdown",
      "id": "fa6cee40",
      "metadata": {
        "id": "fa6cee40"
      },
      "source": [
        "При таком решении, может получится тривиальный результат, где значения векторов примут нули. Нас такой случай не устраивает, поэтому зададим изначальное значение одной из неизвестных. Для того, чтобы в последующем сравнить результаты с работой библитеки numpy, возьмем начальное значение собственных векторов, полученных при помощи np.linalg.eig. Мы бы могли взять любое значение, например 0 и 1, но для проверки эксперимента, возьмем эти значения "
      ]
    },
    {
      "cell_type": "code",
      "execution_count": null,
      "id": "9d684bcd",
      "metadata": {
        "id": "9d684bcd"
      },
      "outputs": [],
      "source": [
        "def gener_value_dict():\n",
        "    np_own_vectors= np.linalg.eig(cov)[1][4]\n",
        "    keys = range(np_own_vectors.shape[0])\n",
        "    values = np_own_vectors\n",
        "    value_dict = dict(zip(keys, values))\n",
        "    \n",
        "    return value_dict"
      ]
    },
    {
      "cell_type": "code",
      "execution_count": null,
      "id": "3348d7b9",
      "metadata": {
        "colab": {
          "base_uri": "https://localhost:8080/"
        },
        "id": "3348d7b9",
        "outputId": "8076a9b7-9bd5-458a-d23c-a06c53049196"
      },
      "outputs": [
        {
          "output_type": "execute_result",
          "data": {
            "text/plain": [
              "{0: -0.18957776981862784,\n",
              " 1: 0.18966797279633762,\n",
              " 2: 0.2697062222108464,\n",
              " 3: -0.28933924089955443,\n",
              " 4: 0.8784234096734579}"
            ]
          },
          "metadata": {},
          "execution_count": 14
        }
      ],
      "source": [
        "# Начальные значения одной из неизвестных СЛАУ\n",
        "gener_value_dict()"
      ]
    },
    {
      "cell_type": "code",
      "execution_count": null,
      "id": "3d9a1c95",
      "metadata": {
        "id": "3d9a1c95"
      },
      "outputs": [],
      "source": [
        "def find_own_vectors(cov, own_numbers):\n",
        "    \"\"\"Нахождение собственных векторов\"\"\"\n",
        "    \n",
        "    own_vectors_df = pd.DataFrame(columns=[1,2,3,4,5])\n",
        "    for number in range(len(own_numbers)):\n",
        "        matrix = cov.copy()\n",
        "        for row in range(matrix.shape[0]):\n",
        "            for col in range(matrix.shape[1]):\n",
        "                if row == col:\n",
        "                    matrix[row][col] = matrix[row][col] - own_numbers[number]\n",
        "                    \n",
        "        M1 = matrix[:-1,:-1]\n",
        "        v1 = -gener_value_dict()[number] * matrix[:-1,-1]\n",
        "        own_vector = np.linalg.solve(M1, v1)\n",
        "        own_vector = np.append(own_vector, gener_value_dict()[number])\n",
        "        \n",
        "        own_vectors_df.loc[number,:] = own_vector\n",
        "        \n",
        "    return own_vectors_df"
      ]
    },
    {
      "cell_type": "code",
      "execution_count": null,
      "id": "94948972",
      "metadata": {
        "id": "94948972"
      },
      "outputs": [],
      "source": [
        "own_vector = np.array(find_own_vectors(cov, own_numbers))"
      ]
    },
    {
      "cell_type": "code",
      "execution_count": null,
      "id": "d26c8324",
      "metadata": {
        "scrolled": true,
        "colab": {
          "base_uri": "https://localhost:8080/"
        },
        "id": "d26c8324",
        "outputId": "41043691-256b-4870-819e-b539a7f74863"
      },
      "outputs": [
        {
          "output_type": "execute_result",
          "data": {
            "text/plain": [
              "array([[0.18030654892972084, 0.2561652634550697, 0.9303354234904235,\n",
              "        -0.020128964242736726, -0.18957776981862784],\n",
              "       [-0.28199341362589375, 0.4701237426730512, -0.018526117421213587,\n",
              "        0.8143379054885139, 0.18966797279633762],\n",
              "       [-0.4565851490744485, 0.6182857728911184, -0.03931659500493311,\n",
              "        -0.5787620095882624, 0.2697062222108464],\n",
              "       [-0.823721729633318, -0.43317592985615, 0.22076389860242568,\n",
              "        0.03724556101079607, -0.28933924089955443],\n",
              "       [-0.03133333120418822, -0.3787404671972964, 0.28956914422415037,\n",
              "        0.009793106102544715, 0.8784234096734579]], dtype=object)"
            ]
          },
          "metadata": {},
          "execution_count": 17
        }
      ],
      "source": [
        "# Собственные вектора матрицы F\n",
        "own_vector"
      ]
    },
    {
      "cell_type": "markdown",
      "id": "25ded8e7",
      "metadata": {
        "id": "25ded8e7"
      },
      "source": [
        "### 5. Сингулярное разложение"
      ]
    },
    {
      "cell_type": "markdown",
      "id": "2d796010",
      "metadata": {
        "id": "2d796010"
      },
      "source": [
        "Мы нашли собственные вектора и собственные значения матрицы F, далее приступим к сингулярному разложению. Сначала найдем s - диагональную матрицу сингулярных значений и v - матрицу левых сингулярных векторов"
      ]
    },
    {
      "cell_type": "code",
      "execution_count": null,
      "id": "05bae807",
      "metadata": {
        "id": "05bae807"
      },
      "outputs": [],
      "source": [
        "def create_own_numbers_diag_matr(own_numbers):\n",
        "    \"\"\"Создание диагональной матрицы сингулярных значений\"\"\"\n",
        "    \n",
        "    own_numbers_sqrt = own_numbers**(0.5)\n",
        "    own_numbers_diag = np.diag(own_numbers_sqrt)\n",
        "    return own_numbers_diag"
      ]
    },
    {
      "cell_type": "code",
      "execution_count": null,
      "id": "c4f70a10",
      "metadata": {
        "scrolled": true,
        "id": "c4f70a10"
      },
      "outputs": [],
      "source": [
        "s = create_own_numbers_diag_matr(own_numbers)"
      ]
    },
    {
      "cell_type": "code",
      "execution_count": null,
      "id": "da45c274",
      "metadata": {
        "id": "da45c274"
      },
      "outputs": [],
      "source": [
        "def calc_V(F, s, u):\n",
        "    \"\"\"Вычисление матрицы правых сингулярных векторов\"\"\"\n",
        "    \n",
        "    v = F.dot(u.T).dot(np.linalg.inv(s))\n",
        "    return v"
      ]
    },
    {
      "cell_type": "code",
      "execution_count": null,
      "id": "e968517e",
      "metadata": {
        "id": "e968517e"
      },
      "outputs": [],
      "source": [
        "v = calc_V(np.array(df), s, own_vector)"
      ]
    },
    {
      "cell_type": "markdown",
      "id": "a4b7dce0",
      "metadata": {
        "id": "a4b7dce0"
      },
      "source": [
        "Теперь проверим, правильно ли мы разложили матрицу F, с помощью спектрального разложения"
      ]
    },
    {
      "cell_type": "code",
      "execution_count": null,
      "id": "eda84261",
      "metadata": {
        "id": "eda84261"
      },
      "outputs": [],
      "source": [
        "def calc_F(v, s, u):\n",
        "    \"\"\"Проверка правильного сингулярного разложения матрицы\"\"\"\n",
        "    \n",
        "    F = v.dot(s).dot(u)\n",
        "    if_coincide = np.allclose(np.array(df), np.array(F, float))\n",
        "    if if_coincide == True:\n",
        "        print('Сингулярное разложение матрицы реализовано верно')\n",
        "    else:\n",
        "        print('Сингулярное разложение матрицы реализовано не верно')"
      ]
    },
    {
      "cell_type": "code",
      "execution_count": null,
      "id": "1353630c",
      "metadata": {
        "scrolled": false,
        "colab": {
          "base_uri": "https://localhost:8080/"
        },
        "id": "1353630c",
        "outputId": "e0f49768-4fe1-49e9-9709-e70bceaaf159"
      },
      "outputs": [
        {
          "output_type": "stream",
          "name": "stdout",
          "text": [
            "Сингулярное разложение матрицы реализовано верно\n"
          ]
        }
      ],
      "source": [
        "calc_F(v, s, own_vector)"
      ]
    },
    {
      "cell_type": "markdown",
      "id": "51d8685a",
      "metadata": {
        "id": "51d8685a"
      },
      "source": [
        "### 6. Опрделение достаточного количества компонент"
      ]
    },
    {
      "cell_type": "markdown",
      "id": "070645f9",
      "metadata": {
        "id": "070645f9"
      },
      "source": [
        "Далее построим график зависимости доли объясненной дисперсии от количества главных компонент, для того, чтобы проанализировать оптимальное количество главных компонент для данной задачи"
      ]
    },
    {
      "cell_type": "code",
      "execution_count": null,
      "id": "62b03339",
      "metadata": {
        "id": "62b03339"
      },
      "outputs": [],
      "source": [
        "def explained_variance_plot(own_numbers):\n",
        "    \"\"\"Построение графика зависимости доли объясненной дисперсии от количества главных компонент\"\"\"\n",
        "    \n",
        "    own_numbers_df = pd.DataFrame(own_numbers)\n",
        "    ratio_func = lambda x: x/own_numbers.sum()\n",
        "    explained_variance_ratio = own_numbers_df.apply(ratio_func)\n",
        "    explained_variance_ratio_cumsum = np.cumsum(explained_variance_ratio[0])\n",
        "    component_range = range(1, len(explained_variance_ratio)+1)\n",
        "    \n",
        "    plt.plot(component_range,explained_variance_ratio_cumsum)\n",
        "    plt.xlabel('Количество главных компонент', fontsize=14)\n",
        "    plt.ylabel('Доля объясненной дисперсии', fontsize=14)"
      ]
    },
    {
      "cell_type": "code",
      "execution_count": null,
      "id": "f2b89a94",
      "metadata": {
        "scrolled": false,
        "colab": {
          "base_uri": "https://localhost:8080/",
          "height": 395
        },
        "id": "f2b89a94",
        "outputId": "9f3ead86-2ca9-465c-c7ef-c9095a68e6da"
      },
      "outputs": [
        {
          "output_type": "display_data",
          "data": {
            "text/plain": [
              "<Figure size 720x432 with 1 Axes>"
            ],
            "image/png": "[encoded data removed]"
          },
          "metadata": {}
        }
      ],
      "source": [
        "explained_variance_plot(own_numbers)"
      ]
    },
    {
      "cell_type": "code",
      "execution_count": null,
      "id": "48e94710",
      "metadata": {
        "id": "48e94710"
      },
      "outputs": [],
      "source": [
        "def own_numbers_plot(own_numbers):\n",
        "    \"\"\"Построение графика зависимости доли объясненной дисперсии от количества главных компонент\"\"\"\n",
        "    \n",
        "    component_range = range(1, len(own_numbers)+1)\n",
        "    plt.plot(component_range,own_numbers)\n",
        "    plt.xlabel('Количество главных компонент', fontsize=14)\n",
        "    plt.ylabel('Собственные значения матрицы', fontsize=14)"
      ]
    },
    {
      "cell_type": "code",
      "execution_count": null,
      "id": "c7874437",
      "metadata": {
        "colab": {
          "base_uri": "https://localhost:8080/",
          "height": 395
        },
        "id": "c7874437",
        "outputId": "b259198f-e245-4123-82e6-34856bc29fd5"
      },
      "outputs": [
        {
          "output_type": "display_data",
          "data": {
            "text/plain": [
              "<Figure size 720x432 with 1 Axes>"
            ],
            "image/png": "[encoded data removed]"
          },
          "metadata": {}
        }
      ],
      "source": [
        "own_numbers_plot(own_numbers)"
      ]
    },
    {
      "cell_type": "code",
      "execution_count": null,
      "id": "4787a9ae",
      "metadata": {
        "colab": {
          "base_uri": "https://localhost:8080/"
        },
        "id": "4787a9ae",
        "outputId": "4c86b753-22a9-4f70-dd5e-9ae58d95c34f"
      },
      "outputs": [
        {
          "output_type": "stream",
          "name": "stdout",
          "text": [
            "Первые 3 главные компоненты описывают 1.0 процентов дисперсии данных\n"
          ]
        }
      ],
      "source": [
        "first_three = own_numbers[0:3]\n",
        "own_numbers_df = pd.DataFrame(first_three)\n",
        "ratio_func = lambda x: x/first_three.sum()\n",
        "explained_variance_ratio = own_numbers_df.apply(ratio_func)\n",
        "explained_variance_ratio_cumsum = np.cumsum(explained_variance_ratio[0])\n",
        "sum = explained_variance_ratio_cumsum[2]\n",
        "print(f'Первые 3 главные компоненты описывают {sum} процентов дисперсии данных')"
      ]
    },
    {
      "cell_type": "markdown",
      "id": "1ed9d00c",
      "metadata": {
        "id": "1ed9d00c"
      },
      "source": [
        "Из графика видно, что 3 первых главных компоненты описывают практически 100 процентов дисперсии данных. Таким образом, используя метод главных компонент, мы определили, что **достаточное количество компонент для описания процесса - 3**. "
      ]
    }
  ],
  "metadata": {
    "kernelspec": {
      "display_name": "Python 3 (ipykernel)",
      "language": "python",
      "name": "python3"
    },
    "language_info": {
      "codemirror_mode": {
        "name": "ipython",
        "version": 3
      },
      "file_extension": ".py",
      "mimetype": "text/x-python",
      "name": "python",
      "nbconvert_exporter": "python",
      "pygments_lexer": "ipython3",
      "version": "3.9.12"
    },
    "colab": {
      "provenance": []
    }
  },
  "nbformat": 4,
  "nbformat_minor": 5
}